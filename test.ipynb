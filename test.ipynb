{
 "cells": [
  {
   "cell_type": "code",
   "execution_count": 2,
   "metadata": {},
   "outputs": [],
   "source": [
    "import pandas as pd"
   ]
  },
  {
   "cell_type": "code",
   "execution_count": 3,
   "metadata": {},
   "outputs": [],
   "source": [
    "data = pd.read_csv('20210627.csv')\n"
   ]
  },
  {
   "cell_type": "code",
   "execution_count": 4,
   "metadata": {},
   "outputs": [
    {
     "name": "stdout",
     "output_type": "stream",
     "text": [
      "<class 'pandas.core.frame.DataFrame'>\n",
      "RangeIndex: 5442 entries, 0 to 5441\n",
      "Data columns (total 10 columns):\n",
      " #   Column              Non-Null Count  Dtype \n",
      "---  ------              --------------  ----- \n",
      " 0   Rank                5442 non-null   int64 \n",
      " 1   Name                5442 non-null   object\n",
      " 2   Symbol              5442 non-null   object\n",
      " 3   Market Cap          5442 non-null   object\n",
      " 4   Price               5442 non-null   object\n",
      " 5   Circulating Supply  5442 non-null   object\n",
      " 6   volume (24h)        5442 non-null   object\n",
      " 7   % 1h                5442 non-null   object\n",
      " 8   % 24h               5442 non-null   object\n",
      " 9   % 7d                5442 non-null   object\n",
      "dtypes: int64(1), object(9)\n",
      "memory usage: 425.3+ KB\n"
     ]
    }
   ],
   "source": [
    "data.info()"
   ]
  }
 ],
 "metadata": {
  "kernelspec": {
   "display_name": "Python 3",
   "language": "python",
   "name": "python3"
  },
  "language_info": {
   "codemirror_mode": {
    "name": "ipython",
    "version": 3
   },
   "file_extension": ".py",
   "mimetype": "text/x-python",
   "name": "python",
   "nbconvert_exporter": "python",
   "pygments_lexer": "ipython3",
   "version": "3.10.11"
  }
 },
 "nbformat": 4,
 "nbformat_minor": 2
}
